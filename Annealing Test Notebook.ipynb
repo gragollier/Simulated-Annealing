{
 "cells": [
  {
   "cell_type": "code",
   "execution_count": null,
   "metadata": {
    "collapsed": false
   },
   "outputs": [
    {
     "name": "stderr",
     "output_type": "stream",
     "text": [
      "/home/grant/anaconda3/lib/python3.5/site-packages/ipykernel/__main__.py:16: VisibleDeprecationWarning: using a non-integer number instead of an integer will result in an error in the future\n",
      "/home/grant/anaconda3/lib/python3.5/site-packages/ipykernel/__main__.py:18: VisibleDeprecationWarning: using a non-integer number instead of an integer will result in an error in the future\n"
     ]
    }
   ],
   "source": [
    "from lunch_opti import *\n",
    "import numpy as np\n",
    "import random\n",
    "import math\n",
    "import time\n",
    "\n",
    "\n",
    "def neighbor(seed, tables):\n",
    "    new_seed = np.array([])\n",
    "    for i in seed:\n",
    "        while i < 100:\n",
    "            i += 1\n",
    "            shift = np.random.randint(-10, 10)\n",
    "            new_i = i + shift\n",
    "            new_i = (new_i % tables.shape[0]) + 1\n",
    "            if tables[new_i - 1].seats != 0:\n",
    "                new_seed = np.append(new_seed, new_i)\n",
    "                tables[new_i - 1].seats -= 1\n",
    "                break\n",
    "    return new_seed\n",
    "\n",
    "\n",
    "students, tables = loadFiles()\n",
    "solution = initialSoultion(tables, students)\n",
    "# prettyPrint(score, tables)\n",
    "# print(neighbor(seed, tables))\n",
    "# students, tables = loadFiles()\n",
    "# solution = main(neighbor(seed, tables), tables, students)\n",
    "# prettyPrint(solution[0], solution[1])\n",
    "\n",
    "\n",
    "def acceptance_probability(old_cost, new_cost, T):\n",
    "    # old_cost = abs((((old_cost - 0.9) * 9) * 100) - round(((old_cost - 0.9) * 9) * 100))\n",
    "    # new_cost = abs((((new_cost - 0.9) * 9) * 100) - round(((new_cost - 0.9) * 9) * 100))\n",
    "    return math.exp((new_cost - old_cost) / T)\n",
    "\n",
    "\n",
    "def anneal(solution):\n",
    "    old_cost = solution[0]\n",
    "    T = 9.0\n",
    "    T_min = 0.05\n",
    "    alpha = 0.5\n",
    "    while T > T_min:\n",
    "        i = 1\n",
    "        while i <= 100:\n",
    "            students, tables = loadFiles()\n",
    "            new_seed = neighbor(solution[2], tables)\n",
    "            new_cost, new_tables, new_seed = main(new_seed, tables, students)\n",
    "            ap = acceptance_probability(old_cost, new_cost, T)\n",
    "            if ap > random.random():\n",
    "            #if new_cost > old_cost:\n",
    "                solution = new_cost, new_tables, new_seed\n",
    "            i += 1\n",
    "        T = T*alpha\n",
    "    return solution\n",
    "\n",
    "start = time.time() # start timer to see how long calculations take\n",
    "a = anneal(solution) # run annealing over data set\n",
    "prettyPrint(a[0], a[1]) # print in easy to read format\n",
    "print(time.time() - start) # print elapsed time\n",
    "\n",
    "\n"
   ]
  }
 ],
 "metadata": {
  "anaconda-cloud": {},
  "kernelspec": {
   "display_name": "Python [conda root]",
   "language": "python",
   "name": "conda-root-py"
  },
  "language_info": {
   "codemirror_mode": {
    "name": "ipython",
    "version": 3
   },
   "file_extension": ".py",
   "mimetype": "text/x-python",
   "name": "python",
   "nbconvert_exporter": "python",
   "pygments_lexer": "ipython3",
   "version": "3.5.2"
  }
 },
 "nbformat": 4,
 "nbformat_minor": 1
}
